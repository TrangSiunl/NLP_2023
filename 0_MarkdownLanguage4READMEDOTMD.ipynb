{
  "nbformat": 4,
  "nbformat_minor": 0,
  "metadata": {
    "colab": {
      "provenance": [],
      "authorship_tag": "ABX9TyMrwrMn/0Me0BE9yKDTImJt"
    },
    "kernelspec": {
      "name": "python3",
      "display_name": "Python 3"
    },
    "language_info": {
      "name": "python"
    }
  },
  "cells": [
    {
      "cell_type": "markdown",
      "source": [
        "#<font color = 'red'> ✂️✏️📌 **Use Markdown Language**"
      ],
      "metadata": {
        "id": "nFyrb7heQOTL"
      }
    },
    {
      "cell_type": "markdown",
      "source": [
        "# NLP_2023\n",
        "\n",
        "# 🐹🍦 **Python Language**\n",
        "\n",
        "## **Learning Python** using **Colab** ([Visit Colab homepage](https://colab.research.google.com/?utm_source=scs-index)) and **Github** ([Visit Github homepage](https://github.com/))\n",
        "\n",
        "### **1. Sign up github** ([Visit a tutorial on Youtube](https://www.youtube.com/watch?v=c-NikCpec7U))\n",
        "### **2. Sign up Google Colaboratory** (aka. Colab) ([Visit a tutorial on Youtube](https://www.youtube.com/watch?v=2X_EU18OeYM))\n",
        "\n",
        "### **3. Useful References**\n",
        "- Exercises 200 파이썬200제 by 장삼용. 정보문화사 2017\n",
        "- [Jump to Python](https://wikidocs.net/book/1)\n",
        "- [wikidocs for nltk](https://wikidocs.net/21667)\n",
        "\n",
        "### **4. Markdown Language**\n",
        "*[Emoji](https://gist.github.com/rxaviers/7360908)\n",
        "*[Markdown syntax](https://www.markdownguide.org/basic-syntax/)\n",
        "\n",
        "### **5. Class Materials**\n",
        "| # | Sessions | Keywords |\n",
        "|:--:|:--:|:--:|\n",
        "| 1 | Code Cells 🐾 | [variable, assign](https://github.com/ms624atyale/Python_Basics/blob/main/1_CodeCells_Basic_.ipynb)|  \n",
        "| 2 | Five Types of Data 📋| [number, string, list, tuple, dictionary](https://github.com/ms624atyale/Python_Basics/blob/main/2_FiveTypesofData.ipynb)|\n",
        "| 3 | Indexing & Slicing 📌✂️ | [:, 0, -1, link +, repeat *, length len](https://github.com/ms624atyale/Python_Basics/blob/main/3_Indexing_Slicing.ipynb)|\n"
      ],
      "metadata": {
        "id": "OtctgkT2NOCS"
      }
    }
  ]
}