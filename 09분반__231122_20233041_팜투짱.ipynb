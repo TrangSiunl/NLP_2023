{
  "nbformat": 4,
  "nbformat_minor": 0,
  "metadata": {
    "colab": {
      "provenance": [],
      "authorship_tag": "ABX9TyMl3L79Yvl/10UYs5NaD4QT",
      "include_colab_link": true
    },
    "kernelspec": {
      "name": "python3",
      "display_name": "Python 3"
    },
    "language_info": {
      "name": "python"
    }
  },
  "cells": [
    {
      "cell_type": "markdown",
      "metadata": {
        "id": "view-in-github",
        "colab_type": "text"
      },
      "source": [
        "<a href=\"https://colab.research.google.com/github/TrangSiunl/NLP_2023/blob/main/09%EB%B6%84%EB%B0%98__231122_20233041_%ED%8C%9C%ED%88%AC%EC%A7%B1.ipynb\" target=\"_parent\"><img src=\"https://colab.research.google.com/assets/colab-badge.svg\" alt=\"Open In Colab\"/></a>"
      ]
    },
    {
      "cell_type": "code",
      "execution_count": 13,
      "metadata": {
        "colab": {
          "base_uri": "https://localhost:8080/"
        },
        "id": "JCsT5NLua3y1",
        "outputId": "786be6c3-53a7-417e-f97e-2618f0c63cbd"
      },
      "outputs": [
        {
          "output_type": "stream",
          "name": "stdout",
          "text": [
            "ISBN 12자리(-제외):9791195730438\n",
            "ISBN 1~12자리의 가중치 반영 합계: 112\n",
            "ISBN 1~12자리의 체크 기호 값:8\n",
            "ISBN 코드: 9791195730438는 검증되었습니다.\n"
          ]
        }
      ],
      "source": [
        "def isbn_check(isbn):\n",
        "  s=0\n",
        "\n",
        "  for i in range(len(isbn)-1):\n",
        "    if (i+1)%2 == 1:\n",
        "      s=s+int(isbn[i])*1\n",
        "    else:\n",
        "      s=s+int(isbn[i])*3\n",
        "  print(\"ISBN 1~12자리의 가중치 반영 합계: %d\"%s)\n",
        "\n",
        "  t=s%10\n",
        "  chk=(10-t)%10\n",
        "  print(\"ISBN 1~12자리의 체크 기호 값:%d\"%chk)\n",
        "\n",
        "  if chk == int(isbn[12]):\n",
        "    rst=1\n",
        "  else:\n",
        "    rst=0\n",
        "  return rst\n",
        "\n",
        "isbn=input(\"ISBN 12자리(-제외):\")\n",
        "\n",
        "if len(isbn) ==13:\n",
        "    rst = isbn_check(isbn)\n",
        "    if rst ==1:\n",
        "      print(\"ISBN 코드: %s는 검증되었습니다.\"%isbn)\n",
        "    else:\n",
        "      print(\"ISBN 코드: %s는 검증되었습니다.\"%isbn)\n",
        "else:\n",
        "    print(\"ISBN 코드 입력은 -를 제외하고 13자리를 입력해주세요.\")"
      ]
    }
  ]
}